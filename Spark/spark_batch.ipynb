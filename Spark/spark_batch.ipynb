{
 "cells": [
  {
   "cell_type": "code",
   "execution_count": 1,
   "metadata": {},
   "outputs": [],
   "source": [
    "import pyspark"
   ]
  },
  {
   "cell_type": "code",
   "execution_count": 2,
   "metadata": {},
   "outputs": [],
   "source": [
    "from pyspark.sql import SparkSession\n",
    "from pyspark.sql import functions as F\n",
    "from pyspark.sql import types as T"
   ]
  },
  {
   "cell_type": "code",
   "execution_count": 3,
   "metadata": {},
   "outputs": [
    {
     "name": "stderr",
     "output_type": "stream",
     "text": [
      "24/10/08 22:22:32 WARN Utils: Your hostname, codespaces-cba268 resolves to a loopback address: 127.0.0.1; using 10.0.0.126 instead (on interface eth0)\n",
      "24/10/08 22:22:32 WARN Utils: Set SPARK_LOCAL_IP if you need to bind to another address\n",
      "Setting default log level to \"WARN\".\n",
      "To adjust logging level use sc.setLogLevel(newLevel). For SparkR, use setLogLevel(newLevel).\n",
      "24/10/08 22:22:33 WARN NativeCodeLoader: Unable to load native-hadoop library for your platform... using builtin-java classes where applicable\n"
     ]
    }
   ],
   "source": [
    "spark = SparkSession.builder.appName(\"explore\").getOrCreate()"
   ]
  },
  {
   "cell_type": "code",
   "execution_count": null,
   "metadata": {},
   "outputs": [
    {
     "name": "stdout",
     "output_type": "stream",
     "text": [
      "['title', 'akas']\n"
     ]
    }
   ],
   "source": [
    "import os\n",
    "\n",
    "movie_tables = {}\n",
    "\n",
    "for file in os.listdir(\"../data\"):\n",
    "    print(file.split(\".\")[:2])\n",
    "    movie_tables[\"_\".join(file.split(\".\")[:2])] = (\n",
    "        spark.read.options(\n",
    "            **{\n",
    "                \"sep\": \"\\t\",\n",
    "                \"header\": True,\n",
    "                \"compression\": \"gzip\",\n",
    "                \"nullValue\": r\"\\N\",\n",
    "            }\n",
    "        )\n",
    "        .csv(f\"../data/{file}\")\n",
    "        .limit(100)\n",
    "    )\n",
    "    # display(pd.read_csv(f\"../data/{file}\", compression = \"gzip\", sep = \"\\t\", nrows = 10, na_values=r\"\\N\").head(10))"
   ]
  },
  {
   "cell_type": "code",
   "execution_count": 5,
   "metadata": {},
   "outputs": [],
   "source": [
    "import transformation.bronze"
   ]
  },
  {
   "cell_type": "code",
   "execution_count": 6,
   "metadata": {},
   "outputs": [
    {
     "ename": "AttributeError",
     "evalue": "module 'transformation.bronze' has no attribute 'title_ratings'",
     "output_type": "error",
     "traceback": [
      "\u001b[0;31m---------------------------------------------------------------------------\u001b[0m",
      "\u001b[0;31mAttributeError\u001b[0m                            Traceback (most recent call last)",
      "Cell \u001b[0;32mIn[6], line 8\u001b[0m\n\u001b[1;32m      1\u001b[0m bronze_transformation \u001b[38;5;241m=\u001b[39m {\n\u001b[1;32m      2\u001b[0m     \u001b[38;5;124m\"\u001b[39m\u001b[38;5;124mname_basics\u001b[39m\u001b[38;5;124m\"\u001b[39m: transformation\u001b[38;5;241m.\u001b[39mbronze\u001b[38;5;241m.\u001b[39mname_basics\u001b[38;5;241m.\u001b[39mtransformation,\n\u001b[1;32m      3\u001b[0m     \u001b[38;5;124m\"\u001b[39m\u001b[38;5;124mtitle_akas\u001b[39m\u001b[38;5;124m\"\u001b[39m: transformation\u001b[38;5;241m.\u001b[39mbronze\u001b[38;5;241m.\u001b[39mtitle_akas\u001b[38;5;241m.\u001b[39mtransformation,\n\u001b[1;32m      4\u001b[0m     \u001b[38;5;124m\"\u001b[39m\u001b[38;5;124mtitle_basics\u001b[39m\u001b[38;5;124m\"\u001b[39m: transformation\u001b[38;5;241m.\u001b[39mbronze\u001b[38;5;241m.\u001b[39mtitle_basics\u001b[38;5;241m.\u001b[39mtransformation,\n\u001b[1;32m      5\u001b[0m     \u001b[38;5;124m\"\u001b[39m\u001b[38;5;124mtitle_crew\u001b[39m\u001b[38;5;124m\"\u001b[39m: transformation\u001b[38;5;241m.\u001b[39mbronze\u001b[38;5;241m.\u001b[39mtitle_crew\u001b[38;5;241m.\u001b[39mtransformation,\n\u001b[1;32m      6\u001b[0m     \u001b[38;5;124m\"\u001b[39m\u001b[38;5;124mtitle_episode\u001b[39m\u001b[38;5;124m\"\u001b[39m: transformation\u001b[38;5;241m.\u001b[39mbronze\u001b[38;5;241m.\u001b[39mtitle_episode\u001b[38;5;241m.\u001b[39mtransformation,\n\u001b[1;32m      7\u001b[0m     \u001b[38;5;124m\"\u001b[39m\u001b[38;5;124mtitle_principals\u001b[39m\u001b[38;5;124m\"\u001b[39m: transformation\u001b[38;5;241m.\u001b[39mbronze\u001b[38;5;241m.\u001b[39mtitle_principals\u001b[38;5;241m.\u001b[39mtransformation,\n\u001b[0;32m----> 8\u001b[0m     \u001b[38;5;124m\"\u001b[39m\u001b[38;5;124mtitle_ratings\u001b[39m\u001b[38;5;124m\"\u001b[39m: \u001b[43mtransformation\u001b[49m\u001b[38;5;241;43m.\u001b[39;49m\u001b[43mbronze\u001b[49m\u001b[38;5;241;43m.\u001b[39;49m\u001b[43mtitle_ratings\u001b[49m\u001b[38;5;241m.\u001b[39mtransformation,\n\u001b[1;32m      9\u001b[0m }\n\u001b[1;32m     11\u001b[0m cleansed_movie_tables \u001b[38;5;241m=\u001b[39m {}\n\u001b[1;32m     13\u001b[0m \u001b[38;5;28;01mfor\u001b[39;00m _table_name, _sdf \u001b[38;5;129;01min\u001b[39;00m movie_tables\u001b[38;5;241m.\u001b[39mitems():\n",
      "\u001b[0;31mAttributeError\u001b[0m: module 'transformation.bronze' has no attribute 'title_ratings'"
     ]
    },
    {
     "name": "stderr",
     "output_type": "stream",
     "text": [
      "24/10/08 22:22:22 WARN GarbageCollectionMetrics: To enable non-built-in garbage collector(s) List(G1 Concurrent GC), users should configure it(them) to spark.eventLog.gcMetrics.youngGenerationGarbageCollectors or spark.eventLog.gcMetrics.oldGenerationGarbageCollectors\n"
     ]
    }
   ],
   "source": [
    "bronze_transformation = {\n",
    "    \"name_basics\": transformation.bronze.name_basics.transformation,\n",
    "    \"title_akas\": transformation.bronze.title_akas.transformation,\n",
    "    \"title_basics\": transformation.bronze.title_basics.transformation,\n",
    "    \"title_crew\": transformation.bronze.title_crew.transformation,\n",
    "    \"title_episode\": transformation.bronze.title_episode.transformation,\n",
    "    \"title_principals\": transformation.bronze.title_principals.transformation,\n",
    "    \"title_ratings\": transformation.bronze.title_ratings.transformation,\n",
    "}\n",
    "\n",
    "cleansed_movie_tables = {}\n",
    "\n",
    "for _table_name, _sdf in movie_tables.items():\n",
    "    cleansed_movie_tables[_table_name] = _sdf.transform(\n",
    "        bronze_transformation[_table_name]\n",
    "    )"
   ]
  },
  {
   "cell_type": "code",
   "execution_count": 11,
   "metadata": {},
   "outputs": [
    {
     "name": "stdout",
     "output_type": "stream",
     "text": [
      "+---------+-------------------+---------+---------+--------------------+--------------------+\n",
      "|   nconst|        primaryName|birthYear|deathYear|   primaryProfession|      knownForTitles|\n",
      "+---------+-------------------+---------+---------+--------------------+--------------------+\n",
      "|nm0000001|       Fred Astaire|     1899|     1987|[actor,miscellane...|[tt0072308,tt0050...|\n",
      "|nm0000002|      Lauren Bacall|     1924|     2014|[actress,soundtra...|[tt0037382,tt0075...|\n",
      "|nm0000003|    Brigitte Bardot|     1934|     NULL|[actress,music_de...|[tt0057345,tt0049...|\n",
      "|nm0000004|       John Belushi|     1949|     1982|[actor,writer,mus...|[tt0072562,tt0077...|\n",
      "|nm0000005|     Ingmar Bergman|     1918|     2007|[writer,director,...|[tt0050986,tt0083...|\n",
      "|nm0000006|     Ingrid Bergman|     1915|     1982|[actress,producer...|[tt0034583,tt0036...|\n",
      "|nm0000007|    Humphrey Bogart|     1899|     1957|[actor,producer,m...|[tt0034583,tt0037...|\n",
      "|nm0000008|      Marlon Brando|     1924|     2004|[actor,director,w...|[tt0078788,tt0068...|\n",
      "|nm0000009|     Richard Burton|     1925|     1984|[actor,producer,d...|[tt0061184,tt0087...|\n",
      "|nm0000010|       James Cagney|     1899|     1986|[actor,director,p...|[tt0029870,tt0031...|\n",
      "|nm0000011|        Gary Cooper|     1901|     1961|[actor,stunts,pro...|[tt0044706,tt0034...|\n",
      "|nm0000012|        Bette Davis|     1908|     1989|[actress,make_up_...|[tt0042192,tt0056...|\n",
      "|nm0000013|          Doris Day|     1922|     2019|[actress,producer...|[tt0048317,tt0045...|\n",
      "|nm0000014|Olivia de Havilland|     1916|     2020|[actress,soundtra...|[tt0031381,tt0041...|\n",
      "|nm0000015|         James Dean|     1931|     1955|[actor,miscellane...|[tt0048028,tt0048...|\n",
      "|nm0000016|    Georges Delerue|     1925|     1992|[composer,music_d...|[tt0091763,tt0096...|\n",
      "|nm0000017|   Marlene Dietrich|     1901|     1992|[actress,music_de...|[tt0051201,tt0055...|\n",
      "|nm0000018|       Kirk Douglas|     1916|     2020|[actor,producer,d...|[tt0080736,tt0054...|\n",
      "|nm0000019|   Federico Fellini|     1920|     1993|[writer,director,...|[tt0056801,tt0050...|\n",
      "|nm0000020|        Henry Fonda|     1905|     1982|[actor,producer,m...|[tt0050083,tt0082...|\n",
      "+---------+-------------------+---------+---------+--------------------+--------------------+\n",
      "only showing top 20 rows\n",
      "\n"
     ]
    }
   ],
   "source": [
    "cleansed_movie_tables[\"name_basics\"].show()"
   ]
  },
  {
   "cell_type": "code",
   "execution_count": 6,
   "metadata": {},
   "outputs": [],
   "source": [
    "import pyspark_functions as F_"
   ]
  },
  {
   "cell_type": "code",
   "execution_count": 7,
   "metadata": {},
   "outputs": [
    {
     "name": "stderr",
     "output_type": "stream",
     "text": [
      "24/10/08 22:18:30 WARN GarbageCollectionMetrics: To enable non-built-in garbage collector(s) List(G1 Concurrent GC), users should configure it(them) to spark.eventLog.gcMetrics.youngGenerationGarbageCollectors or spark.eventLog.gcMetrics.oldGenerationGarbageCollectors\n"
     ]
    }
   ],
   "source": [
    "# F.split(\"genres\", pattern=\",\").alias(\"genres\"),\n",
    "# F_.when_mapping(F.col(\"isAdult\"), {1: True, 0: False}).alias(\"isAdult\"),"
   ]
  },
  {
   "cell_type": "code",
   "execution_count": null,
   "metadata": {},
   "outputs": [],
   "source": []
  }
 ],
 "metadata": {
  "kernelspec": {
   "display_name": ".venv",
   "language": "python",
   "name": "python3"
  },
  "language_info": {
   "codemirror_mode": {
    "name": "ipython",
    "version": 3
   },
   "file_extension": ".py",
   "mimetype": "text/x-python",
   "name": "python",
   "nbconvert_exporter": "python",
   "pygments_lexer": "ipython3",
   "version": "3.12.1"
  }
 },
 "nbformat": 4,
 "nbformat_minor": 2
}
