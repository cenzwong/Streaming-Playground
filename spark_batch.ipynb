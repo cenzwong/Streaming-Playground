{
 "cells": [
  {
   "cell_type": "code",
   "execution_count": 1,
   "metadata": {},
   "outputs": [],
   "source": [
    "from pyspark.sql import SparkSession\n",
    "from pyspark.sql import functions as F"
   ]
  },
  {
   "cell_type": "code",
   "execution_count": 2,
   "metadata": {},
   "outputs": [
    {
     "name": "stderr",
     "output_type": "stream",
     "text": [
      "24/10/11 13:02:33 WARN Utils: Your hostname, codespaces-cba268 resolves to a loopback address: 127.0.0.1; using 10.0.1.237 instead (on interface eth0)\n",
      "24/10/11 13:02:33 WARN Utils: Set SPARK_LOCAL_IP if you need to bind to another address\n",
      "Setting default log level to \"WARN\".\n",
      "To adjust logging level use sc.setLogLevel(newLevel). For SparkR, use setLogLevel(newLevel).\n",
      "24/10/11 13:02:34 WARN NativeCodeLoader: Unable to load native-hadoop library for your platform... using builtin-java classes where applicable\n"
     ]
    }
   ],
   "source": [
    "spark = SparkSession.builder.appName(\"imdb_query\").getOrCreate()"
   ]
  },
  {
   "cell_type": "code",
   "execution_count": 3,
   "metadata": {},
   "outputs": [
    {
     "name": "stdout",
     "output_type": "stream",
     "text": [
      "title_akas\n",
      "title_principals\n",
      "title_ratings\n",
      "title_basics\n",
      "name_basics\n",
      "title_episode\n",
      "title_crew\n"
     ]
    }
   ],
   "source": [
    "from pathlib import Path\n",
    "\n",
    "imdb_tables = {}\n",
    "data_folder = Path(\"./data\")\n",
    "\n",
    "for file in list(data_folder.glob(\"*.tsv.gz\")):\n",
    "    table_name = \"_\".join(file.name.split(\".\")[:2])\n",
    "    print(table_name)\n",
    "    imdb_tables[table_name] = (\n",
    "        spark.read.options(\n",
    "            **{\n",
    "                \"sep\": \"\\t\",\n",
    "                \"header\": True,\n",
    "                \"compression\": \"gzip\",\n",
    "                \"nullValue\": r\"\\N\",\n",
    "            }\n",
    "        ).csv(f\"./data/{file.name}\")\n",
    "        # .limit(100)\n",
    "    )"
   ]
  },
  {
   "cell_type": "code",
   "execution_count": 4,
   "metadata": {},
   "outputs": [],
   "source": [
    "from transformation import bronze as xform_bronze"
   ]
  },
  {
   "cell_type": "code",
   "execution_count": 5,
   "metadata": {},
   "outputs": [],
   "source": [
    "bronze_transformation = {\n",
    "    \"name_basics\": xform_bronze.name_basics.transformation,\n",
    "    \"title_akas\": xform_bronze.title_akas.transformation,\n",
    "    \"title_basics\": xform_bronze.title_basics.transformation,\n",
    "    \"title_crew\": xform_bronze.title_crew.transformation,\n",
    "    \"title_episode\": xform_bronze.title_episode.transformation,\n",
    "    \"title_principals\": xform_bronze.title_principals.transformation,\n",
    "    \"title_ratings\": xform_bronze.title_ratings.transformation,\n",
    "}\n",
    "\n",
    "cleansed_imdb_tables = {\n",
    "    _table_name: _sdf.transform(bronze_transformation[_table_name])\n",
    "    for _table_name, _sdf in imdb_tables.items()\n",
    "}\n",
    "\n",
    "# You can now access the cleansed table on cleansed_imdb_tables[\"table_name\"]"
   ]
  },
  {
   "cell_type": "markdown",
   "metadata": {},
   "source": [
    "---"
   ]
  },
  {
   "cell_type": "markdown",
   "metadata": {},
   "source": [
    "# Task 1"
   ]
  },
  {
   "cell_type": "markdown",
   "metadata": {},
   "source": [
    "## Retrieve the top 10 movies with a minimum of 500 votes with the ranking determined by\n",
    "\n",
    "`(numVotes/averageNumberOfVotes)*averageRating`"
   ]
  },
  {
   "cell_type": "code",
   "execution_count": 6,
   "metadata": {},
   "outputs": [
    {
     "name": "stdout",
     "output_type": "stream",
     "text": [
      "average_number_of_voters = 757.0\n",
      "+------+--------+-------+------------+\n",
      "|tconst|numVotes|ranking|primaryTitle|\n",
      "+------+--------+-------+------------+\n",
      "+------+--------+-------+------------+\n",
      "\n"
     ]
    },
    {
     "data": {
      "text/plain": [
       "DataFrame[tconst: string, numVotes: int, ranking: double, primaryTitle: string]"
      ]
     },
     "execution_count": 6,
     "metadata": {},
     "output_type": "execute_result"
    }
   ],
   "source": [
    "# Getting a list of movies\n",
    "title_movie_sdf = (\n",
    "    cleansed_imdb_tables[\"title_basics\"]\n",
    "    .filter(F.col(\"titleType\") == \"movie\")\n",
    "    .select(\"tconst\")\n",
    ")\n",
    "\n",
    "# Getting the value of the average number of votes across all titles including movies and short\n",
    "average_number_of_voters = (\n",
    "    cleansed_imdb_tables[\"title_ratings\"]\n",
    "    .agg(F.avg(\"numVotes\").alias(\"averageNumberOfVotes\"))\n",
    "    .head()[\"averageNumberOfVotes\"]\n",
    ")\n",
    "\n",
    "print(f\"{average_number_of_voters = }\")\n",
    "\n",
    "# Ranking Logics is given from the PDF\n",
    "ranking_logics = (\n",
    "    F.col(\"numVotes\") * F.col(\"averageRating\") / F.lit(average_number_of_voters)\n",
    ")\n",
    "ranked_title_sdf = (\n",
    "    cleansed_imdb_tables[\"title_ratings\"]\n",
    "    .join(\n",
    "        # Filtering the ratings table to movie only\n",
    "        title_movie_sdf,\n",
    "        on=\"tconst\",\n",
    "        how=\"inner\",\n",
    "    )\n",
    "    .select(\n",
    "        \"tconst\",\n",
    "        F.col(\"numVotes\"),\n",
    "        ranking_logics.alias(\"ranking\"),\n",
    "    )\n",
    ")\n",
    "\n",
    "top_10_movies_with_min_500_votes_sdf = (\n",
    "    ranked_title_sdf.filter(F.col(\"numVotes\") >= 500)\n",
    "    .orderBy(F.col(\"ranking\").desc())\n",
    "    .limit(10)\n",
    ")\n",
    "\n",
    "top_10_movies_with_min_500_votes_with_title_sdf = (\n",
    "    top_10_movies_with_min_500_votes_sdf.join(\n",
    "        cleansed_imdb_tables[\"title_basics\"].select(\"tconst\", \"primaryTitle\"),\n",
    "        on=\"tconst\",\n",
    "        how=\"left\",\n",
    "    )\n",
    ")\n",
    "\n",
    "top_10_movies_with_min_500_votes_with_title_sdf.show(truncate=False)\n",
    "top_10_movies_with_min_500_votes_with_title_sdf.cache()"
   ]
  },
  {
   "cell_type": "markdown",
   "metadata": {},
   "source": [
    "# Task 2"
   ]
  },
  {
   "cell_type": "markdown",
   "metadata": {},
   "source": [
    "## For these 10 movies, list the persons who are most often credited"
   ]
  },
  {
   "cell_type": "code",
   "execution_count": 7,
   "metadata": {},
   "outputs": [
    {
     "name": "stdout",
     "output_type": "stream",
     "text": [
      "+------+-----+-----------+\n",
      "|nconst|count|primaryName|\n",
      "+------+-----+-----------+\n",
      "+------+-----+-----------+\n",
      "\n"
     ]
    }
   ],
   "source": [
    "top10_movies_with_credited_person_sdf = (\n",
    "    top_10_movies_with_min_500_votes_with_title_sdf.select(\"tconst\").join(\n",
    "        cleansed_imdb_tables[\"title_principals\"].select(\"tconst\", \"nconst\"),\n",
    "        on=\"tconst\",\n",
    "        how=\"inner\",  # Some data is missing in title_principals\n",
    "    )\n",
    ")\n",
    "\n",
    "most_credited_person_for_top10_movies_sdf = (\n",
    "    top10_movies_with_credited_person_sdf.groupBy(\"nconst\")\n",
    "    .count()\n",
    "    .orderBy(F.col(\"count\").desc())\n",
    "    .limit(1)\n",
    ")\n",
    "\n",
    "most_credited_person_for_top10_movies_with_names_sdf = (\n",
    "    most_credited_person_for_top10_movies_sdf.join(\n",
    "        cleansed_imdb_tables[\"name_basics\"].select(\n",
    "            \"nconst\",\n",
    "            \"primaryName\",\n",
    "        ),\n",
    "        on=\"nconst\",\n",
    "        how=\"left\",\n",
    "    )\n",
    ")\n",
    "\n",
    "most_credited_person_for_top10_movies_with_names_sdf.show()"
   ]
  },
  {
   "cell_type": "markdown",
   "metadata": {},
   "source": [
    "## For these 10 movies, list the different titles of the 10 movies"
   ]
  },
  {
   "cell_type": "code",
   "execution_count": 8,
   "metadata": {},
   "outputs": [
    {
     "name": "stdout",
     "output_type": "stream",
     "text": [
      "(0 rows)\n",
      "\n"
     ]
    },
    {
     "name": "stderr",
     "output_type": "stream",
     "text": [
      "24/10/11 13:02:46 WARN GarbageCollectionMetrics: To enable non-built-in garbage collector(s) List(G1 Concurrent GC), users should configure it(them) to spark.eventLog.gcMetrics.youngGenerationGarbageCollectors or spark.eventLog.gcMetrics.oldGenerationGarbageCollectors\n"
     ]
    }
   ],
   "source": [
    "top_10_movies_with_aka_sdf = top_10_movies_with_min_500_votes_with_title_sdf.select(\n",
    "    \"tconst\", \"primaryTitle\"\n",
    ").join(\n",
    "    cleansed_imdb_tables[\"title_akas\"].select(\n",
    "        \"tconst\", \"title\", \"region\", \"isOriginalTitle\"\n",
    "    ),\n",
    "    on=\"tconst\",\n",
    "    how=\"left\",\n",
    ")\n",
    "top_10_movies_with_aka_sdf.groupBy(\"tconst\", \"primaryTitle\").agg(\n",
    "    F.collect_set(\"title\")\n",
    ").show(truncate=False, vertical=True, n=10)"
   ]
  },
  {
   "cell_type": "code",
   "execution_count": null,
   "metadata": {},
   "outputs": [],
   "source": []
  }
 ],
 "metadata": {
  "kernelspec": {
   "display_name": "Python 3",
   "language": "python",
   "name": "python3"
  },
  "language_info": {
   "codemirror_mode": {
    "name": "ipython",
    "version": 3
   },
   "file_extension": ".py",
   "mimetype": "text/x-python",
   "name": "python",
   "nbconvert_exporter": "python",
   "pygments_lexer": "ipython3",
   "version": "3.12.1"
  }
 },
 "nbformat": 4,
 "nbformat_minor": 2
}
